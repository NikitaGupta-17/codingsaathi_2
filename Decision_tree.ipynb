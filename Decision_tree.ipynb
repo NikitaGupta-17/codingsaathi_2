{
 "cells": [
  {
   "cell_type": "code",
   "execution_count": 14,
   "id": "4d1fc87d",
   "metadata": {},
   "outputs": [],
   "source": [
    "#Decision Tree\n",
    "import numpy as np\n",
    "import pandas as pd\n",
    "import matplotlib.pyplot as plt\n",
    "from sklearn.model_selection import train_test_split\n",
    "from sklearn.datasets import load_iris\n",
    "from sklearn.metrics import confusion_matrix,accuracy_score,classification_report\n",
    "from sklearn.tree import DecisionTreeClassifier,plot_tree\n",
    "from sklearn.preprocessing import LabelEncoder"
   ]
  },
  {
   "cell_type": "code",
   "execution_count": 15,
   "id": "1e481019",
   "metadata": {},
   "outputs": [
    {
     "name": "stdout",
     "output_type": "stream",
     "text": [
      "Dataset : \n",
      "      sepal_length  sepal_width  petal_length  petal_width         species\n",
      "0             5.1          3.5           1.4          0.2     Iris-setosa\n",
      "1             4.9          3.0           1.4          0.2     Iris-setosa\n",
      "2             4.7          3.2           1.3          0.2     Iris-setosa\n",
      "3             4.6          3.1           1.5          0.2     Iris-setosa\n",
      "4             5.0          3.6           1.4          0.2      Iris-setos\n",
      "..            ...          ...           ...          ...             ...\n",
      "145           6.7          3.0           5.2          2.3  Iris-virginica\n",
      "146           6.3          2.5           5.0          1.9  Iris-virginica\n",
      "147           6.5          3.0           5.2          2.0  Iris-virginica\n",
      "148           6.2          3.4           5.4          2.3  Iris-virginica\n",
      "149           5.9          3.0           5.1          1.8  Iris-virginica\n",
      "\n",
      "[150 rows x 5 columns]\n"
     ]
    }
   ],
   "source": [
    "# read dataset\n",
    "pdy=pd.read_csv(\"iris.csv\")\n",
    "print(\"Dataset : \\n\" ,pdy)"
   ]
  },
  {
   "cell_type": "code",
   "execution_count": 16,
   "id": "7043f8b0",
   "metadata": {},
   "outputs": [],
   "source": [
    "#applying label encoding\n",
    "label_encoder =LabelEncoder()\n",
    "pdy['species']= label_encoder.fit_transform(pdy['species'])"
   ]
  },
  {
   "cell_type": "code",
   "execution_count": 17,
   "id": "1b779b84",
   "metadata": {},
   "outputs": [
    {
     "name": "stdout",
     "output_type": "stream",
     "text": [
      "Independent variables are : \n",
      "      sepal_length  sepal_width  petal_length  petal_width\n",
      "0             5.1          3.5           1.4          0.2\n",
      "1             4.9          3.0           1.4          0.2\n",
      "2             4.7          3.2           1.3          0.2\n",
      "3             4.6          3.1           1.5          0.2\n",
      "4             5.0          3.6           1.4          0.2\n",
      "..            ...          ...           ...          ...\n",
      "145           6.7          3.0           5.2          2.3\n",
      "146           6.3          2.5           5.0          1.9\n",
      "147           6.5          3.0           5.2          2.0\n",
      "148           6.2          3.4           5.4          2.3\n",
      "149           5.9          3.0           5.1          1.8\n",
      "\n",
      "[150 rows x 4 columns]\n",
      "Dependent variables are : \n",
      " 0      1\n",
      "1      1\n",
      "2      1\n",
      "3      1\n",
      "4      0\n",
      "      ..\n",
      "145    3\n",
      "146    3\n",
      "147    3\n",
      "148    3\n",
      "149    3\n",
      "Name: species, Length: 150, dtype: int32\n"
     ]
    }
   ],
   "source": [
    "# Distinguish dependent and independent variables\n",
    "x=pdy.iloc[:,:-1]\n",
    "y=pdy.iloc[:,-1]\n",
    "\n",
    "print(\"Independent variables are : \\n\",x)\n",
    "print(\"Dependent variables are : \\n\",y)"
   ]
  },
  {
   "cell_type": "code",
   "execution_count": 18,
   "id": "24fd9bc6",
   "metadata": {},
   "outputs": [],
   "source": [
    "# split test and training data\n",
    "x_train,x_test,y_train,y_test=train_test_split(x,y,test_size=0.3,random_state=4)"
   ]
  },
  {
   "cell_type": "code",
   "execution_count": 20,
   "id": "f73a6e3b",
   "metadata": {},
   "outputs": [
    {
     "name": "stdout",
     "output_type": "stream",
     "text": [
      "\n",
      "Dependent test dataset : \n",
      " 128    3\n",
      "18     1\n",
      "130    3\n",
      "105    3\n",
      "107    3\n",
      "78     2\n",
      "83     2\n",
      "14     1\n",
      "5      1\n",
      "133    3\n",
      "25     1\n",
      "11     1\n",
      "12     1\n",
      "63     2\n",
      "113    3\n",
      "34     1\n",
      "60     2\n",
      "2      1\n",
      "24     1\n",
      "123    3\n",
      "35     1\n",
      "124    3\n",
      "68     2\n",
      "26     1\n",
      "29     1\n",
      "19     1\n",
      "41     1\n",
      "16     1\n",
      "20     1\n",
      "101    3\n",
      "84     2\n",
      "47     1\n",
      "108    3\n",
      "1      1\n",
      "93     2\n",
      "144    3\n",
      "125    3\n",
      "92     2\n",
      "86     2\n",
      "46     1\n",
      "135    3\n",
      "7      1\n",
      "65     2\n",
      "10     1\n",
      "132    3\n",
      "Name: species, dtype: int32\n",
      "\n",
      " Dependent prediction values :\n",
      "[3 1 3 3 3 2 3 1 1 3 1 1 1 2 3 1 2 1 1 3 1 3 2 1 1 1 1 1 1 3 2 1 3 1 2 3 3\n",
      " 2 2 1 3 1 2 1 3]\n",
      "\n",
      "Confusion Matrix for entropy : \n",
      " [[21  0  0]\n",
      " [ 0  9  1]\n",
      " [ 0  0 14]]\n",
      "\n",
      "Accuracy by entropy:  0.9777777777777777\n",
      "\n",
      "Classification report for entropy : \n",
      "               precision    recall  f1-score   support\n",
      "\n",
      "           1       1.00      1.00      1.00        21\n",
      "           2       0.90      1.00      0.95         9\n",
      "           3       1.00      0.93      0.97        15\n",
      "\n",
      "    accuracy                           0.98        45\n",
      "   macro avg       0.97      0.98      0.97        45\n",
      "weighted avg       0.98      0.98      0.98        45\n",
      "\n",
      "[Text(0.39705882352941174, 0.9, 'X[2] <= 2.45\\nentropy = 1.632\\nsamples = 105\\nvalue = [1, 28, 40, 36]'), Text(0.11764705882352941, 0.7, 'X[1] <= 3.55\\nentropy = 0.216\\nsamples = 29\\nvalue = [1, 28, 0, 0]'), Text(0.058823529411764705, 0.5, 'entropy = 0.0\\nsamples = 21\\nvalue = [0, 21, 0, 0]'), Text(0.17647058823529413, 0.5, 'X[1] <= 3.65\\nentropy = 0.544\\nsamples = 8\\nvalue = [1, 7, 0, 0]'), Text(0.11764705882352941, 0.3, 'X[2] <= 1.2\\nentropy = 1.0\\nsamples = 2\\nvalue = [1, 1, 0, 0]'), Text(0.058823529411764705, 0.1, 'entropy = 0.0\\nsamples = 1\\nvalue = [0, 1, 0, 0]'), Text(0.17647058823529413, 0.1, 'entropy = 0.0\\nsamples = 1\\nvalue = [1, 0, 0, 0]'), Text(0.23529411764705882, 0.3, 'entropy = 0.0\\nsamples = 6\\nvalue = [0, 6, 0, 0]'), Text(0.6764705882352942, 0.7, 'X[3] <= 1.75\\nentropy = 0.998\\nsamples = 76\\nvalue = [0, 0, 40, 36]'), Text(0.47058823529411764, 0.5, 'X[2] <= 4.95\\nentropy = 0.446\\nsamples = 43\\nvalue = [0, 0, 39, 4]'), Text(0.35294117647058826, 0.3, 'X[3] <= 1.65\\nentropy = 0.172\\nsamples = 39\\nvalue = [0, 0, 38, 1]'), Text(0.29411764705882354, 0.1, 'entropy = 0.0\\nsamples = 38\\nvalue = [0, 0, 38, 0]'), Text(0.4117647058823529, 0.1, 'entropy = 0.0\\nsamples = 1\\nvalue = [0, 0, 0, 1]'), Text(0.5882352941176471, 0.3, 'X[3] <= 1.65\\nentropy = 0.811\\nsamples = 4\\nvalue = [0, 0, 1, 3]'), Text(0.5294117647058824, 0.1, 'entropy = 0.0\\nsamples = 3\\nvalue = [0, 0, 0, 3]'), Text(0.6470588235294118, 0.1, 'entropy = 0.0\\nsamples = 1\\nvalue = [0, 0, 1, 0]'), Text(0.8823529411764706, 0.5, 'X[2] <= 4.85\\nentropy = 0.196\\nsamples = 33\\nvalue = [0, 0, 1, 32]'), Text(0.8235294117647058, 0.3, 'X[0] <= 5.95\\nentropy = 0.918\\nsamples = 3\\nvalue = [0, 0, 1, 2]'), Text(0.7647058823529411, 0.1, 'entropy = 0.0\\nsamples = 1\\nvalue = [0, 0, 1, 0]'), Text(0.8823529411764706, 0.1, 'entropy = 0.0\\nsamples = 2\\nvalue = [0, 0, 0, 2]'), Text(0.9411764705882353, 0.3, 'entropy = 0.0\\nsamples = 30\\nvalue = [0, 0, 0, 30]')]\n"
     ]
    },
    {
     "data": {
      "text/plain": [
       "Text(0.5, 1.0, 'Decision Tree using Entropy')"
      ]
     },
     "execution_count": 20,
     "metadata": {},
     "output_type": "execute_result"
    },
    {
     "data": {
      "image/png": "[encoded data removed]",
      "text/plain": [
       "<Figure size 432x288 with 1 Axes>"
      ]
     },
     "metadata": {
      "needs_background": "light"
     },
     "output_type": "display_data"
    }
   ],
   "source": [
    "dt=DecisionTreeClassifier(criterion=\"entropy\", random_state=4)\n",
    "model=dt.fit(x_train,y_train)\n",
    "y_pred=model.predict(x_test)\n",
    "print(f\"\\nDependent test dataset : \\n {y_test}\\n\\n Dependent prediction values :\\n{y_pred}\")\n",
    "print(\"\\nConfusion Matrix for entropy : \\n\",confusion_matrix(y_test,y_pred))\n",
    "print(\"\\nAccuracy by entropy: \",accuracy_score(y_pred,y_test))\n",
    "print(\"\\nClassification report for entropy : \\n\",classification_report(y_pred,y_test))\n",
    "print(plot_tree(dt))\n",
    "plt.title('Decision Tree using Entropy')"
   ]
  },
  {
   "cell_type": "code",
   "execution_count": 13,
   "id": "7e2f4302",
   "metadata": {},
   "outputs": [
    {
     "name": "stdout",
     "output_type": "stream",
     "text": [
      "\n",
      "Confusion Matrix for gini : \n",
      " [[21  0  0]\n",
      " [ 0  9  1]\n",
      " [ 0  0 14]]\n",
      "\n",
      "Accuracy by gini :  0.9777777777777777\n",
      "\n",
      "Classification report for gini : \n",
      "               precision    recall  f1-score   support\n",
      "\n",
      "           1       1.00      1.00      1.00        21\n",
      "           2       0.90      1.00      0.95         9\n",
      "           3       1.00      0.93      0.97        15\n",
      "\n",
      "    accuracy                           0.98        45\n",
      "   macro avg       0.97      0.98      0.97        45\n",
      "weighted avg       0.98      0.98      0.98        45\n",
      "\n",
      "[Text(0.39705882352941174, 0.9, 'X[2] <= 2.45\\ngini = 0.666\\nsamples = 105\\nvalue = [1, 28, 40, 36]'), Text(0.11764705882352941, 0.7, 'X[1] <= 3.55\\ngini = 0.067\\nsamples = 29\\nvalue = [1, 28, 0, 0]'), Text(0.058823529411764705, 0.5, 'gini = 0.0\\nsamples = 21\\nvalue = [0, 21, 0, 0]'), Text(0.17647058823529413, 0.5, 'X[1] <= 3.65\\ngini = 0.219\\nsamples = 8\\nvalue = [1, 7, 0, 0]'), Text(0.11764705882352941, 0.3, 'X[2] <= 1.2\\ngini = 0.5\\nsamples = 2\\nvalue = [1, 1, 0, 0]'), Text(0.058823529411764705, 0.1, 'gini = 0.0\\nsamples = 1\\nvalue = [0, 1, 0, 0]'), Text(0.17647058823529413, 0.1, 'gini = 0.0\\nsamples = 1\\nvalue = [1, 0, 0, 0]'), Text(0.23529411764705882, 0.3, 'gini = 0.0\\nsamples = 6\\nvalue = [0, 6, 0, 0]'), Text(0.6764705882352942, 0.7, 'X[3] <= 1.75\\ngini = 0.499\\nsamples = 76\\nvalue = [0, 0, 40, 36]'), Text(0.47058823529411764, 0.5, 'X[2] <= 4.95\\ngini = 0.169\\nsamples = 43\\nvalue = [0, 0, 39, 4]'), Text(0.35294117647058826, 0.3, 'X[3] <= 1.65\\ngini = 0.05\\nsamples = 39\\nvalue = [0, 0, 38, 1]'), Text(0.29411764705882354, 0.1, 'gini = 0.0\\nsamples = 38\\nvalue = [0, 0, 38, 0]'), Text(0.4117647058823529, 0.1, 'gini = 0.0\\nsamples = 1\\nvalue = [0, 0, 0, 1]'), Text(0.5882352941176471, 0.3, 'X[3] <= 1.65\\ngini = 0.375\\nsamples = 4\\nvalue = [0, 0, 1, 3]'), Text(0.5294117647058824, 0.1, 'gini = 0.0\\nsamples = 3\\nvalue = [0, 0, 0, 3]'), Text(0.6470588235294118, 0.1, 'gini = 0.0\\nsamples = 1\\nvalue = [0, 0, 1, 0]'), Text(0.8823529411764706, 0.5, 'X[2] <= 4.85\\ngini = 0.059\\nsamples = 33\\nvalue = [0, 0, 1, 32]'), Text(0.8235294117647058, 0.3, 'X[0] <= 5.95\\ngini = 0.444\\nsamples = 3\\nvalue = [0, 0, 1, 2]'), Text(0.7647058823529411, 0.1, 'gini = 0.0\\nsamples = 1\\nvalue = [0, 0, 1, 0]'), Text(0.8823529411764706, 0.1, 'gini = 0.0\\nsamples = 2\\nvalue = [0, 0, 0, 2]'), Text(0.9411764705882353, 0.3, 'gini = 0.0\\nsamples = 30\\nvalue = [0, 0, 0, 30]')]\n"
     ]
    },
    {
     "data": {
      "text/plain": [
       "Text(0.5, 1.0, 'Decision Tree using Gini')"
      ]
     },
     "execution_count": 13,
     "metadata": {},
     "output_type": "execute_result"
    },
    {
     "data": {
      "image/png": "[encoded data removed]",
      "text/plain": [
       "<Figure size 432x288 with 1 Axes>"
      ]
     },
     "metadata": {
      "needs_background": "light"
     },
     "output_type": "display_data"
    }
   ],
   "source": [
    "dt=DecisionTreeClassifier(criterion=\"gini\", random_state=4)\n",
    "model=dt.fit(x_train,y_train)\n",
    "y_pred=model.predict(x_test)\n",
    "print(\"\\nConfusion Matrix for gini : \\n\",confusion_matrix(y_test,y_pred))\n",
    "print(\"\\nAccuracy by gini : \",accuracy_score(y_pred,y_test))\n",
    "print(\"\\nClassification report for gini : \\n\",classification_report(y_pred,y_test))\n",
    "print(plot_tree(dt))\n",
    "plt.title('Decision Tree using Gini')"
   ]
  },
  {
   "cell_type": "code",
   "execution_count": null,
   "id": "5adb13d4",
   "metadata": {},
   "outputs": [],
   "source": []
  }
 ],
 "metadata": {
  "kernelspec": {
   "display_name": "Python 3 (ipykernel)",
   "language": "python",
   "name": "python3"
  },
  "language_info": {
   "codemirror_mode": {
    "name": "ipython",
    "version": 3
   },
   "file_extension": ".py",
   "mimetype": "text/x-python",
   "name": "python",
   "nbconvert_exporter": "python",
   "pygments_lexer": "ipython3",
   "version": "3.9.12"
  }
 },
 "nbformat": 4,
 "nbformat_minor": 5
}
